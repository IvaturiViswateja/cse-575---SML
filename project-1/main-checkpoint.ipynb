{
 "cells": [
  {
   "cell_type": "markdown",
   "id": "dense-majority",
   "metadata": {},
   "source": [
    "# Project Objective"
   ]
  },
  {
   "cell_type": "markdown",
   "id": "polyphonic-album",
   "metadata": {},
   "source": [
    "#### Given a Fashion-MNIST dataset contains 70,000 images of article images, divided into 60,000 training images and 10,000 testing images, perform:\n",
    "#### (I)  features extraction for both training set and testing set \n",
    "#### (II) implement Logistic Regression and use it to predicted label for each testing sample\n",
    "#### (III) implement  Naive Bayes Classifier and use it to predicted label for each testing sample\n",
    "#### Along compute the classification accuracy, for both the Naive Bayes Classifier and Logistic Regression"
   ]
  },
  {
   "cell_type": "markdown",
   "id": "attached-pollution",
   "metadata": {},
   "source": [
    "###### First let us import all the required libraries"
   ]
  },
  {
   "cell_type": "code",
   "execution_count": 2,
   "id": "ideal-petroleum",
   "metadata": {},
   "outputs": [],
   "source": [
    "import time\n",
    "import math\n",
    "import pandas as pd\n",
    "import numpy as np\n",
    "import matplotlib.pyplot as plt\n",
    "from scipy.stats import multivariate_normal\n",
    "import scipy.io"
   ]
  },
  {
   "cell_type": "markdown",
   "id": "decimal-tender",
   "metadata": {},
   "source": [
    "###### Load the input .mat file onto the memory"
   ]
  },
  {
   "cell_type": "code",
   "execution_count": 3,
   "id": "deadly-bride",
   "metadata": {},
   "outputs": [],
   "source": [
    "data = scipy.io.loadmat('fashion_mnist.mat') "
   ]
  },
  {
   "cell_type": "markdown",
   "id": "absent-plate",
   "metadata": {},
   "source": [
    "###### Let us examine the columns names and data they contain "
   ]
  },
  {
   "cell_type": "code",
   "execution_count": 4,
   "id": "grateful-andrews",
   "metadata": {},
   "outputs": [
    {
     "data": {
      "text/plain": [
       "dict_keys(['__header__', '__version__', '__globals__', 'trX', 'trY', 'tsX', 'tsY'])"
      ]
     },
     "execution_count": 4,
     "metadata": {},
     "output_type": "execute_result"
    }
   ],
   "source": [
    "data.keys()"
   ]
  },
  {
   "cell_type": "markdown",
   "id": "finite-telescope",
   "metadata": {},
   "source": [
    "###### Here trX, trY represent training independent and dependet variables. Simimlarly tsX, tsY represent test independent and dependent variables"
   ]
  },
  {
   "cell_type": "code",
   "execution_count": 5,
   "id": "elder-earthquake",
   "metadata": {
    "scrolled": true
   },
   "outputs": [
    {
     "data": {
      "text/plain": [
       "dict_values([b'MATLAB 5.0 MAT-file Platform: nt, Created on: Tue Feb  2 11:20:21 2021', '1.0', [], array([[0., 0., 0., ..., 0., 0., 0.],\n",
       "       [0., 0., 0., ..., 0., 0., 0.],\n",
       "       [0., 0., 0., ..., 0., 0., 0.],\n",
       "       ...,\n",
       "       [0., 0., 0., ..., 0., 0., 0.],\n",
       "       [0., 0., 0., ..., 0., 0., 0.],\n",
       "       [0., 0., 0., ..., 0., 0., 0.]]), array([[0., 0., 0., ..., 1., 1., 1.]]), array([[0.        , 0.        , 0.        , ..., 0.        , 0.        ,\n",
       "        0.        ],\n",
       "       [0.        , 0.        , 0.        , ..., 0.        , 0.        ,\n",
       "        0.        ],\n",
       "       [0.        , 0.        , 0.        , ..., 0.        , 0.        ,\n",
       "        0.        ],\n",
       "       ...,\n",
       "       [0.        , 0.        , 0.        , ..., 0.        , 0.        ,\n",
       "        0.        ],\n",
       "       [0.        , 0.        , 0.00392157, ..., 0.        , 0.        ,\n",
       "        0.        ],\n",
       "       [0.        , 0.        , 0.        , ..., 0.        , 0.        ,\n",
       "        0.        ]]), array([[0., 1., 1., ..., 1., 0., 1.]])])"
      ]
     },
     "execution_count": 5,
     "metadata": {},
     "output_type": "execute_result"
    }
   ],
   "source": [
    "data.values()"
   ]
  },
  {
   "cell_type": "markdown",
   "id": "chinese-england",
   "metadata": {},
   "source": [
    "###### Load training data into an array to examine the number of records and its shape"
   ]
  },
  {
   "cell_type": "code",
   "execution_count": 6,
   "id": "developing-commercial",
   "metadata": {},
   "outputs": [
    {
     "data": {
      "text/plain": [
       "(12000, 784)"
      ]
     },
     "execution_count": 6,
     "metadata": {},
     "output_type": "execute_result"
    }
   ],
   "source": [
    "tr_x = data['trX']\n",
    "tr_x.shape"
   ]
  },
  {
   "cell_type": "code",
   "execution_count": 7,
   "id": "medium-gathering",
   "metadata": {},
   "outputs": [
    {
     "data": {
      "text/plain": [
       "(1, 12000)"
      ]
     },
     "execution_count": 7,
     "metadata": {},
     "output_type": "execute_result"
    }
   ],
   "source": [
    "tr_y = data['trY']\n",
    "tr_y.shape"
   ]
  },
  {
   "cell_type": "markdown",
   "id": "accessory-blackberry",
   "metadata": {},
   "source": [
    "###### reshaping Y into a 1D array to be consistent with independent variables"
   ]
  },
  {
   "cell_type": "code",
   "execution_count": 8,
   "id": "minor-polish",
   "metadata": {},
   "outputs": [
    {
     "data": {
      "text/plain": [
       "(12000,)"
      ]
     },
     "execution_count": 8,
     "metadata": {},
     "output_type": "execute_result"
    }
   ],
   "source": [
    "tr_y = tr_y.reshape(12000,)\n",
    "tr_y.shape"
   ]
  },
  {
   "cell_type": "markdown",
   "id": "italic-adult",
   "metadata": {},
   "source": [
    "###### We are required to extract the following two features for each image:\n",
    "###### (I) The average of all pixel values in the image\n",
    "###### (II) The standard deviation of all pixel values in the image"
   ]
  },
  {
   "cell_type": "code",
   "execution_count": 12,
   "id": "inclusive-amplifier",
   "metadata": {},
   "outputs": [
    {
     "data": {
      "text/plain": [
       "(12000,)"
      ]
     },
     "execution_count": 12,
     "metadata": {},
     "output_type": "execute_result"
    }
   ],
   "source": [
    "mean_trx = tr_x.mean(axis=1)\n",
    "mean_trx.shape"
   ]
  },
  {
   "cell_type": "code",
   "execution_count": 13,
   "id": "latest-gibraltar",
   "metadata": {},
   "outputs": [
    {
     "data": {
      "text/plain": [
       "(12000,)"
      ]
     },
     "execution_count": 13,
     "metadata": {},
     "output_type": "execute_result"
    }
   ],
   "source": [
    "std_trx = tr_x.std(axis=1)\n",
    "std_trx.shape"
   ]
  },
  {
   "cell_type": "markdown",
   "id": "loving-appendix",
   "metadata": {},
   "source": [
    "###### With mean and standard deviation as input features let us construct a dataframe to overlap with the dependenet variable"
   ]
  },
  {
   "cell_type": "code",
   "execution_count": 14,
   "id": "direct-latest",
   "metadata": {
    "scrolled": true
   },
   "outputs": [
    {
     "data": {
      "text/html": [
       "<div>\n",
       "<style scoped>\n",
       "    .dataframe tbody tr th:only-of-type {\n",
       "        vertical-align: middle;\n",
       "    }\n",
       "\n",
       "    .dataframe tbody tr th {\n",
       "        vertical-align: top;\n",
       "    }\n",
       "\n",
       "    .dataframe thead th {\n",
       "        text-align: right;\n",
       "    }\n",
       "</style>\n",
       "<table border=\"1\" class=\"dataframe\">\n",
       "  <thead>\n",
       "    <tr style=\"text-align: right;\">\n",
       "      <th></th>\n",
       "      <th>mean</th>\n",
       "      <th>std</th>\n",
       "      <th>y</th>\n",
       "    </tr>\n",
       "  </thead>\n",
       "  <tbody>\n",
       "    <tr>\n",
       "      <th>0</th>\n",
       "      <td>0.423159</td>\n",
       "      <td>0.395417</td>\n",
       "      <td>0.0</td>\n",
       "    </tr>\n",
       "    <tr>\n",
       "      <th>1</th>\n",
       "      <td>0.143367</td>\n",
       "      <td>0.194897</td>\n",
       "      <td>0.0</td>\n",
       "    </tr>\n",
       "    <tr>\n",
       "      <th>2</th>\n",
       "      <td>0.306057</td>\n",
       "      <td>0.407228</td>\n",
       "      <td>0.0</td>\n",
       "    </tr>\n",
       "    <tr>\n",
       "      <th>3</th>\n",
       "      <td>0.347949</td>\n",
       "      <td>0.332871</td>\n",
       "      <td>0.0</td>\n",
       "    </tr>\n",
       "    <tr>\n",
       "      <th>4</th>\n",
       "      <td>0.369848</td>\n",
       "      <td>0.374355</td>\n",
       "      <td>0.0</td>\n",
       "    </tr>\n",
       "    <tr>\n",
       "      <th>...</th>\n",
       "      <td>...</td>\n",
       "      <td>...</td>\n",
       "      <td>...</td>\n",
       "    </tr>\n",
       "    <tr>\n",
       "      <th>11995</th>\n",
       "      <td>0.168517</td>\n",
       "      <td>0.255543</td>\n",
       "      <td>1.0</td>\n",
       "    </tr>\n",
       "    <tr>\n",
       "      <th>11996</th>\n",
       "      <td>0.328006</td>\n",
       "      <td>0.362793</td>\n",
       "      <td>1.0</td>\n",
       "    </tr>\n",
       "    <tr>\n",
       "      <th>11997</th>\n",
       "      <td>0.179372</td>\n",
       "      <td>0.274561</td>\n",
       "      <td>1.0</td>\n",
       "    </tr>\n",
       "    <tr>\n",
       "      <th>11998</th>\n",
       "      <td>0.189001</td>\n",
       "      <td>0.325558</td>\n",
       "      <td>1.0</td>\n",
       "    </tr>\n",
       "    <tr>\n",
       "      <th>11999</th>\n",
       "      <td>0.213891</td>\n",
       "      <td>0.364859</td>\n",
       "      <td>1.0</td>\n",
       "    </tr>\n",
       "  </tbody>\n",
       "</table>\n",
       "<p>12000 rows × 3 columns</p>\n",
       "</div>"
      ],
      "text/plain": [
       "           mean       std    y\n",
       "0      0.423159  0.395417  0.0\n",
       "1      0.143367  0.194897  0.0\n",
       "2      0.306057  0.407228  0.0\n",
       "3      0.347949  0.332871  0.0\n",
       "4      0.369848  0.374355  0.0\n",
       "...         ...       ...  ...\n",
       "11995  0.168517  0.255543  1.0\n",
       "11996  0.328006  0.362793  1.0\n",
       "11997  0.179372  0.274561  1.0\n",
       "11998  0.189001  0.325558  1.0\n",
       "11999  0.213891  0.364859  1.0\n",
       "\n",
       "[12000 rows x 3 columns]"
      ]
     },
     "execution_count": 14,
     "metadata": {},
     "output_type": "execute_result"
    }
   ],
   "source": [
    "df1 = pd.DataFrame({'mean':mean_trx,'std':std_trx,'y':tr_y})\n",
    "df1"
   ]
  },
  {
   "cell_type": "markdown",
   "id": "focal-shepherd",
   "metadata": {},
   "source": [
    "###### In order to perform parameter estimation, let us segregate the whole data into T-shirt (label 0) and Trouser (label 1)"
   ]
  },
  {
   "cell_type": "code",
   "execution_count": 15,
   "id": "urban-joint",
   "metadata": {},
   "outputs": [
    {
     "data": {
      "text/html": [
       "<div>\n",
       "<style scoped>\n",
       "    .dataframe tbody tr th:only-of-type {\n",
       "        vertical-align: middle;\n",
       "    }\n",
       "\n",
       "    .dataframe tbody tr th {\n",
       "        vertical-align: top;\n",
       "    }\n",
       "\n",
       "    .dataframe thead th {\n",
       "        text-align: right;\n",
       "    }\n",
       "</style>\n",
       "<table border=\"1\" class=\"dataframe\">\n",
       "  <thead>\n",
       "    <tr style=\"text-align: right;\">\n",
       "      <th></th>\n",
       "      <th>mean</th>\n",
       "      <th>std</th>\n",
       "      <th>y</th>\n",
       "    </tr>\n",
       "  </thead>\n",
       "  <tbody>\n",
       "    <tr>\n",
       "      <th>6000</th>\n",
       "      <td>0.260694</td>\n",
       "      <td>0.341222</td>\n",
       "      <td>1.0</td>\n",
       "    </tr>\n",
       "    <tr>\n",
       "      <th>6001</th>\n",
       "      <td>0.239626</td>\n",
       "      <td>0.350733</td>\n",
       "      <td>1.0</td>\n",
       "    </tr>\n",
       "    <tr>\n",
       "      <th>6002</th>\n",
       "      <td>0.251025</td>\n",
       "      <td>0.389269</td>\n",
       "      <td>1.0</td>\n",
       "    </tr>\n",
       "    <tr>\n",
       "      <th>6003</th>\n",
       "      <td>0.183288</td>\n",
       "      <td>0.316657</td>\n",
       "      <td>1.0</td>\n",
       "    </tr>\n",
       "    <tr>\n",
       "      <th>6004</th>\n",
       "      <td>0.240831</td>\n",
       "      <td>0.345363</td>\n",
       "      <td>1.0</td>\n",
       "    </tr>\n",
       "    <tr>\n",
       "      <th>...</th>\n",
       "      <td>...</td>\n",
       "      <td>...</td>\n",
       "      <td>...</td>\n",
       "    </tr>\n",
       "    <tr>\n",
       "      <th>11995</th>\n",
       "      <td>0.168517</td>\n",
       "      <td>0.255543</td>\n",
       "      <td>1.0</td>\n",
       "    </tr>\n",
       "    <tr>\n",
       "      <th>11996</th>\n",
       "      <td>0.328006</td>\n",
       "      <td>0.362793</td>\n",
       "      <td>1.0</td>\n",
       "    </tr>\n",
       "    <tr>\n",
       "      <th>11997</th>\n",
       "      <td>0.179372</td>\n",
       "      <td>0.274561</td>\n",
       "      <td>1.0</td>\n",
       "    </tr>\n",
       "    <tr>\n",
       "      <th>11998</th>\n",
       "      <td>0.189001</td>\n",
       "      <td>0.325558</td>\n",
       "      <td>1.0</td>\n",
       "    </tr>\n",
       "    <tr>\n",
       "      <th>11999</th>\n",
       "      <td>0.213891</td>\n",
       "      <td>0.364859</td>\n",
       "      <td>1.0</td>\n",
       "    </tr>\n",
       "  </tbody>\n",
       "</table>\n",
       "<p>6000 rows × 3 columns</p>\n",
       "</div>"
      ],
      "text/plain": [
       "           mean       std    y\n",
       "6000   0.260694  0.341222  1.0\n",
       "6001   0.239626  0.350733  1.0\n",
       "6002   0.251025  0.389269  1.0\n",
       "6003   0.183288  0.316657  1.0\n",
       "6004   0.240831  0.345363  1.0\n",
       "...         ...       ...  ...\n",
       "11995  0.168517  0.255543  1.0\n",
       "11996  0.328006  0.362793  1.0\n",
       "11997  0.179372  0.274561  1.0\n",
       "11998  0.189001  0.325558  1.0\n",
       "11999  0.213891  0.364859  1.0\n",
       "\n",
       "[6000 rows x 3 columns]"
      ]
     },
     "execution_count": 15,
     "metadata": {},
     "output_type": "execute_result"
    }
   ],
   "source": [
    "df_1 = df1[df1['y']==1]\n",
    "df_1"
   ]
  },
  {
   "cell_type": "code",
   "execution_count": 16,
   "id": "exotic-attendance",
   "metadata": {},
   "outputs": [
    {
     "data": {
      "text/html": [
       "<div>\n",
       "<style scoped>\n",
       "    .dataframe tbody tr th:only-of-type {\n",
       "        vertical-align: middle;\n",
       "    }\n",
       "\n",
       "    .dataframe tbody tr th {\n",
       "        vertical-align: top;\n",
       "    }\n",
       "\n",
       "    .dataframe thead th {\n",
       "        text-align: right;\n",
       "    }\n",
       "</style>\n",
       "<table border=\"1\" class=\"dataframe\">\n",
       "  <thead>\n",
       "    <tr style=\"text-align: right;\">\n",
       "      <th></th>\n",
       "      <th>mean</th>\n",
       "      <th>std</th>\n",
       "      <th>y</th>\n",
       "    </tr>\n",
       "  </thead>\n",
       "  <tbody>\n",
       "    <tr>\n",
       "      <th>0</th>\n",
       "      <td>0.423159</td>\n",
       "      <td>0.395417</td>\n",
       "      <td>0.0</td>\n",
       "    </tr>\n",
       "    <tr>\n",
       "      <th>1</th>\n",
       "      <td>0.143367</td>\n",
       "      <td>0.194897</td>\n",
       "      <td>0.0</td>\n",
       "    </tr>\n",
       "    <tr>\n",
       "      <th>2</th>\n",
       "      <td>0.306057</td>\n",
       "      <td>0.407228</td>\n",
       "      <td>0.0</td>\n",
       "    </tr>\n",
       "    <tr>\n",
       "      <th>3</th>\n",
       "      <td>0.347949</td>\n",
       "      <td>0.332871</td>\n",
       "      <td>0.0</td>\n",
       "    </tr>\n",
       "    <tr>\n",
       "      <th>4</th>\n",
       "      <td>0.369848</td>\n",
       "      <td>0.374355</td>\n",
       "      <td>0.0</td>\n",
       "    </tr>\n",
       "    <tr>\n",
       "      <th>...</th>\n",
       "      <td>...</td>\n",
       "      <td>...</td>\n",
       "      <td>...</td>\n",
       "    </tr>\n",
       "    <tr>\n",
       "      <th>5995</th>\n",
       "      <td>0.311855</td>\n",
       "      <td>0.296552</td>\n",
       "      <td>0.0</td>\n",
       "    </tr>\n",
       "    <tr>\n",
       "      <th>5996</th>\n",
       "      <td>0.427216</td>\n",
       "      <td>0.350584</td>\n",
       "      <td>0.0</td>\n",
       "    </tr>\n",
       "    <tr>\n",
       "      <th>5997</th>\n",
       "      <td>0.409809</td>\n",
       "      <td>0.310720</td>\n",
       "      <td>0.0</td>\n",
       "    </tr>\n",
       "    <tr>\n",
       "      <th>5998</th>\n",
       "      <td>0.390536</td>\n",
       "      <td>0.361370</td>\n",
       "      <td>0.0</td>\n",
       "    </tr>\n",
       "    <tr>\n",
       "      <th>5999</th>\n",
       "      <td>0.167617</td>\n",
       "      <td>0.151014</td>\n",
       "      <td>0.0</td>\n",
       "    </tr>\n",
       "  </tbody>\n",
       "</table>\n",
       "<p>6000 rows × 3 columns</p>\n",
       "</div>"
      ],
      "text/plain": [
       "          mean       std    y\n",
       "0     0.423159  0.395417  0.0\n",
       "1     0.143367  0.194897  0.0\n",
       "2     0.306057  0.407228  0.0\n",
       "3     0.347949  0.332871  0.0\n",
       "4     0.369848  0.374355  0.0\n",
       "...        ...       ...  ...\n",
       "5995  0.311855  0.296552  0.0\n",
       "5996  0.427216  0.350584  0.0\n",
       "5997  0.409809  0.310720  0.0\n",
       "5998  0.390536  0.361370  0.0\n",
       "5999  0.167617  0.151014  0.0\n",
       "\n",
       "[6000 rows x 3 columns]"
      ]
     },
     "execution_count": 16,
     "metadata": {},
     "output_type": "execute_result"
    }
   ],
   "source": [
    "df_0 = df1[df1['y']==0]\n",
    "df_0"
   ]
  },
  {
   "cell_type": "markdown",
   "id": "legal-sweet",
   "metadata": {},
   "source": [
    "###### By plotting a scatter plot, we can see an overlap between the datapoints which can only be classified using a non-linear function"
   ]
  },
  {
   "cell_type": "code",
   "execution_count": 18,
   "id": "protective-hanging",
   "metadata": {},
   "outputs": [
    {
     "data": {
      "image/png": "[encoded data removed]",
      "text/plain": [
       "<Figure size 1080x720 with 1 Axes>"
      ]
     },
     "metadata": {
      "needs_background": "light"
     },
     "output_type": "display_data"
    }
   ],
   "source": [
    "plt.figure(figsize=(15,10))\n",
    "plt.scatter(df_0.iloc[:, 0], df_0.iloc[:, 1], s=3, label='T shirt')\n",
    "plt.scatter(df_1.iloc[:, 0], df_1.iloc[:, 1], s=3, label='T rouser')\n",
    "plt.legend()\n",
    "plt.show()"
   ]
  },
  {
   "cell_type": "markdown",
   "id": "finished-breast",
   "metadata": {},
   "source": [
    "## Parameter Estimation using Maximum Likelihood Estimation"
   ]
  },
  {
   "cell_type": "markdown",
   "id": "identified-shakespeare",
   "metadata": {},
   "source": [
    "##### Below is a function which returns mean, covariance between 2 features for plotting 2D gaussian distribution"
   ]
  },
  {
   "cell_type": "code",
   "execution_count": 19,
   "id": "brilliant-cancer",
   "metadata": {},
   "outputs": [],
   "source": [
    "def cal_mean_covariance(v):\n",
    "    f_mean = v.mean(axis=0)\n",
    "    length = v.shape[0]\n",
    "    v_mod = v - f_mean\n",
    "    f_cov = v_mod.T.dot(v_mod) / length\n",
    "    return f_mean,f_cov"
   ]
  },
  {
   "cell_type": "markdown",
   "id": "advisory-allah",
   "metadata": {},
   "source": [
    "###### df_0 contains Y=0 and df_1 contains Y=1"
   ]
  },
  {
   "cell_type": "code",
   "execution_count": 20,
   "id": "careful-possibility",
   "metadata": {},
   "outputs": [],
   "source": [
    "mean_01,cov_01 = cal_mean_covariance(df_0['mean'])\n",
    "mean_02,cov_02 = cal_mean_covariance(df_0['std'])\n",
    "\n",
    "mean_11,cov_11 = cal_mean_covariance(df_1['mean'])\n",
    "mean_12,cov_12 = cal_mean_covariance(df_1['std'])"
   ]
  },
  {
   "cell_type": "markdown",
   "id": "minor-three",
   "metadata": {},
   "source": [
    "###### constructing arrays to fit mean and covariance for 2 features for both Y=0 and Y=1"
   ]
  },
  {
   "cell_type": "code",
   "execution_count": 21,
   "id": "developed-positive",
   "metadata": {},
   "outputs": [
    {
     "data": {
      "text/plain": [
       "(array([0.32560777, 0.32003609]), array([0.22290531, 0.33394171]))"
      ]
     },
     "execution_count": 21,
     "metadata": {},
     "output_type": "execute_result"
    }
   ],
   "source": [
    "mean_0 = np.array([mean_01,mean_02])\n",
    "mean_1 = np.array([mean_11,mean_12])\n",
    "mean_0,mean_1"
   ]
  },
  {
   "cell_type": "code",
   "execution_count": 22,
   "id": "comic-breeding",
   "metadata": {},
   "outputs": [
    {
     "data": {
      "text/plain": [
       "array([[0.01285387, 0.        ],\n",
       "       [0.        , 0.00774097]])"
      ]
     },
     "execution_count": 22,
     "metadata": {},
     "output_type": "execute_result"
    }
   ],
   "source": [
    "cov_0 = np.zeros((2,2))\n",
    "cov_0[0][0] = cov_01\n",
    "cov_0[1][1] = cov_02\n",
    "cov_0"
   ]
  },
  {
   "cell_type": "code",
   "execution_count": 23,
   "id": "operational-metro",
   "metadata": {},
   "outputs": [
    {
     "data": {
      "text/plain": [
       "array([[0.00324342, 0.        ],\n",
       "       [0.        , 0.00325268]])"
      ]
     },
     "execution_count": 23,
     "metadata": {},
     "output_type": "execute_result"
    }
   ],
   "source": [
    "cov_1 = np.zeros((2,2))\n",
    "cov_1[0][0] = cov_11\n",
    "cov_1[1][1] = cov_12\n",
    "cov_1"
   ]
  },
  {
   "cell_type": "markdown",
   "id": "promotional-asian",
   "metadata": {},
   "source": [
    "#### Now we have mean_0, cov_0 arrays for Y=0 and mean_1, cov_1 arrays for Y=1. "
   ]
  },
  {
   "cell_type": "markdown",
   "id": "activated-synthesis",
   "metadata": {},
   "source": [
    "###### Let us plot 2D gaussian PDF for Y=0 with mean_0 and cov_0"
   ]
  },
  {
   "cell_type": "code",
   "execution_count": 25,
   "id": "cathedral-hughes",
   "metadata": {},
   "outputs": [],
   "source": [
    "x = np.linspace(-0.3,0.8,1000)\n",
    "y = np.linspace(-0.2,1,10)\n",
    "X, Y = np.meshgrid(x,y)\n",
    "pos = np.empty(X.shape + (2,))\n",
    "pos[:, :, 0] = X; pos[:, :, 1] = Y\n",
    "rv_0 = multivariate_normal(mean_0, cov_0)"
   ]
  },
  {
   "cell_type": "code",
   "execution_count": 26,
   "id": "sonic-recall",
   "metadata": {},
   "outputs": [
    {
     "data": {
      "image/png": "[encoded data removed]",
      "text/plain": [
       "<Figure size 720x1152 with 1 Axes>"
      ]
     },
     "metadata": {
      "needs_background": "light"
     },
     "output_type": "display_data"
    }
   ],
   "source": [
    "fig = plt.figure(figsize=(10, 16))\n",
    "ax = fig.gca(projection='3d')\n",
    "ax.plot_surface(X, Y, rv_0.pdf(pos),cmap='viridis',linewidth=0)\n",
    "ax.set_xlabel('X axis')\n",
    "ax.set_ylabel('Y axis')\n",
    "ax.set_zlabel('Z axis')\n",
    "plt.show()"
   ]
  },
  {
   "cell_type": "markdown",
   "id": "given-opinion",
   "metadata": {},
   "source": [
    "###### Let us plot 2D gaussian PDF for Y=1 with mean_1 and cov_1"
   ]
  },
  {
   "cell_type": "code",
   "execution_count": 27,
   "id": "olympic-procurement",
   "metadata": {},
   "outputs": [],
   "source": [
    "x = np.linspace(-0.2,0.5,1000)\n",
    "y = np.linspace(0,1,30)\n",
    "X, Y = np.meshgrid(x,y)\n",
    "pos = np.empty(X.shape + (2,))\n",
    "pos[:, :, 0] = X; pos[:, :, 1] = Y\n",
    "rv_1 = multivariate_normal(mean_1, cov_1)"
   ]
  },
  {
   "cell_type": "code",
   "execution_count": 28,
   "id": "conditional-healthcare",
   "metadata": {
    "scrolled": false
   },
   "outputs": [
    {
     "data": {
      "image/png": "[encoded data removed]",
      "text/plain": [
       "<Figure size 720x1152 with 1 Axes>"
      ]
     },
     "metadata": {
      "needs_background": "light"
     },
     "output_type": "display_data"
    }
   ],
   "source": [
    "fig = plt.figure(figsize=(10, 16))\n",
    "ax = fig.gca(projection='3d')\n",
    "ax.plot_surface(X, Y, rv_1.pdf(pos),cmap='viridis',linewidth=0)\n",
    "ax.set_xlabel('X axis')\n",
    "ax.set_ylabel('Y axis')\n",
    "ax.set_zlabel('Z axis')\n",
    "plt.show()"
   ]
  },
  {
   "cell_type": "code",
   "execution_count": 29,
   "id": "warming-pollution",
   "metadata": {
    "scrolled": false
   },
   "outputs": [
    {
     "data": {
      "text/html": [
       "<div>\n",
       "<style scoped>\n",
       "    .dataframe tbody tr th:only-of-type {\n",
       "        vertical-align: middle;\n",
       "    }\n",
       "\n",
       "    .dataframe tbody tr th {\n",
       "        vertical-align: top;\n",
       "    }\n",
       "\n",
       "    .dataframe thead th {\n",
       "        text-align: right;\n",
       "    }\n",
       "</style>\n",
       "<table border=\"1\" class=\"dataframe\">\n",
       "  <thead>\n",
       "    <tr style=\"text-align: right;\">\n",
       "      <th></th>\n",
       "      <th>y</th>\n",
       "    </tr>\n",
       "  </thead>\n",
       "  <tbody>\n",
       "    <tr>\n",
       "      <th>0</th>\n",
       "      <td>0.0</td>\n",
       "    </tr>\n",
       "    <tr>\n",
       "      <th>1</th>\n",
       "      <td>0.0</td>\n",
       "    </tr>\n",
       "    <tr>\n",
       "      <th>2</th>\n",
       "      <td>0.0</td>\n",
       "    </tr>\n",
       "    <tr>\n",
       "      <th>3</th>\n",
       "      <td>0.0</td>\n",
       "    </tr>\n",
       "    <tr>\n",
       "      <th>4</th>\n",
       "      <td>0.0</td>\n",
       "    </tr>\n",
       "    <tr>\n",
       "      <th>...</th>\n",
       "      <td>...</td>\n",
       "    </tr>\n",
       "    <tr>\n",
       "      <th>11995</th>\n",
       "      <td>1.0</td>\n",
       "    </tr>\n",
       "    <tr>\n",
       "      <th>11996</th>\n",
       "      <td>1.0</td>\n",
       "    </tr>\n",
       "    <tr>\n",
       "      <th>11997</th>\n",
       "      <td>1.0</td>\n",
       "    </tr>\n",
       "    <tr>\n",
       "      <th>11998</th>\n",
       "      <td>1.0</td>\n",
       "    </tr>\n",
       "    <tr>\n",
       "      <th>11999</th>\n",
       "      <td>1.0</td>\n",
       "    </tr>\n",
       "  </tbody>\n",
       "</table>\n",
       "<p>12000 rows × 1 columns</p>\n",
       "</div>"
      ],
      "text/plain": [
       "         y\n",
       "0      0.0\n",
       "1      0.0\n",
       "2      0.0\n",
       "3      0.0\n",
       "4      0.0\n",
       "...    ...\n",
       "11995  1.0\n",
       "11996  1.0\n",
       "11997  1.0\n",
       "11998  1.0\n",
       "11999  1.0\n",
       "\n",
       "[12000 rows x 1 columns]"
      ]
     },
     "execution_count": 29,
     "metadata": {},
     "output_type": "execute_result"
    }
   ],
   "source": [
    "y = df1[['y']]\n",
    "y"
   ]
  },
  {
   "cell_type": "code",
   "execution_count": 30,
   "id": "funny-shelf",
   "metadata": {
    "scrolled": false
   },
   "outputs": [
    {
     "data": {
      "text/html": [
       "<div>\n",
       "<style scoped>\n",
       "    .dataframe tbody tr th:only-of-type {\n",
       "        vertical-align: middle;\n",
       "    }\n",
       "\n",
       "    .dataframe tbody tr th {\n",
       "        vertical-align: top;\n",
       "    }\n",
       "\n",
       "    .dataframe thead th {\n",
       "        text-align: right;\n",
       "    }\n",
       "</style>\n",
       "<table border=\"1\" class=\"dataframe\">\n",
       "  <thead>\n",
       "    <tr style=\"text-align: right;\">\n",
       "      <th></th>\n",
       "      <th>mean</th>\n",
       "      <th>std</th>\n",
       "    </tr>\n",
       "  </thead>\n",
       "  <tbody>\n",
       "    <tr>\n",
       "      <th>0</th>\n",
       "      <td>0.423159</td>\n",
       "      <td>0.395417</td>\n",
       "    </tr>\n",
       "    <tr>\n",
       "      <th>1</th>\n",
       "      <td>0.143367</td>\n",
       "      <td>0.194897</td>\n",
       "    </tr>\n",
       "    <tr>\n",
       "      <th>2</th>\n",
       "      <td>0.306057</td>\n",
       "      <td>0.407228</td>\n",
       "    </tr>\n",
       "    <tr>\n",
       "      <th>3</th>\n",
       "      <td>0.347949</td>\n",
       "      <td>0.332871</td>\n",
       "    </tr>\n",
       "    <tr>\n",
       "      <th>4</th>\n",
       "      <td>0.369848</td>\n",
       "      <td>0.374355</td>\n",
       "    </tr>\n",
       "    <tr>\n",
       "      <th>...</th>\n",
       "      <td>...</td>\n",
       "      <td>...</td>\n",
       "    </tr>\n",
       "    <tr>\n",
       "      <th>11995</th>\n",
       "      <td>0.168517</td>\n",
       "      <td>0.255543</td>\n",
       "    </tr>\n",
       "    <tr>\n",
       "      <th>11996</th>\n",
       "      <td>0.328006</td>\n",
       "      <td>0.362793</td>\n",
       "    </tr>\n",
       "    <tr>\n",
       "      <th>11997</th>\n",
       "      <td>0.179372</td>\n",
       "      <td>0.274561</td>\n",
       "    </tr>\n",
       "    <tr>\n",
       "      <th>11998</th>\n",
       "      <td>0.189001</td>\n",
       "      <td>0.325558</td>\n",
       "    </tr>\n",
       "    <tr>\n",
       "      <th>11999</th>\n",
       "      <td>0.213891</td>\n",
       "      <td>0.364859</td>\n",
       "    </tr>\n",
       "  </tbody>\n",
       "</table>\n",
       "<p>12000 rows × 2 columns</p>\n",
       "</div>"
      ],
      "text/plain": [
       "           mean       std\n",
       "0      0.423159  0.395417\n",
       "1      0.143367  0.194897\n",
       "2      0.306057  0.407228\n",
       "3      0.347949  0.332871\n",
       "4      0.369848  0.374355\n",
       "...         ...       ...\n",
       "11995  0.168517  0.255543\n",
       "11996  0.328006  0.362793\n",
       "11997  0.179372  0.274561\n",
       "11998  0.189001  0.325558\n",
       "11999  0.213891  0.364859\n",
       "\n",
       "[12000 rows x 2 columns]"
      ]
     },
     "execution_count": 30,
     "metadata": {},
     "output_type": "execute_result"
    }
   ],
   "source": [
    "x = df1[['mean','std']]\n",
    "x"
   ]
  },
  {
   "cell_type": "markdown",
   "id": "existing-encoding",
   "metadata": {},
   "source": [
    "## Logistic regression model with gradient ascent"
   ]
  },
  {
   "cell_type": "markdown",
   "id": "bottom-mattress",
   "metadata": {},
   "source": [
    "###### define sigmoid function which acts as an activation function "
   ]
  },
  {
   "cell_type": "code",
   "execution_count": 31,
   "id": "particular-episode",
   "metadata": {},
   "outputs": [],
   "source": [
    "def sigmoid(X, weight):\n",
    "    z = np.dot(X, weight)\n",
    "    sigma = 1 / (1 + np.exp(-z))\n",
    "    return sigma"
   ]
  },
  {
   "cell_type": "markdown",
   "id": "continued-trinidad",
   "metadata": {},
   "source": [
    "![title](loglikelihood.jpg)"
   ]
  },
  {
   "cell_type": "code",
   "execution_count": 32,
   "id": "compliant-north",
   "metadata": {},
   "outputs": [],
   "source": [
    "def log_likelihood(x, y, weights):\n",
    "    z = np.dot(x, weights)\n",
    "    sigma = sigmoid(x,weights)\n",
    "    loglikelihood = np.sum(y*log(sigma),(1-y)*log(1-sigma))\n",
    "    return loglikelihood"
   ]
  },
  {
   "cell_type": "markdown",
   "id": "suited-enlargement",
   "metadata": {},
   "source": [
    "###### define gradient ascent an update_weight functions for logistic regression"
   ]
  },
  {
   "cell_type": "code",
   "execution_count": 33,
   "id": "minute-ivory",
   "metadata": {},
   "outputs": [],
   "source": [
    "def gradient_ascent(X, h, y):\n",
    "    gradient = np.dot(X.T, y - h)\n",
    "    return gradient\n",
    "\n",
    "def update_weight_mle(weight, learning_rate, gradient):\n",
    "    return weight + learning_rate * gradient"
   ]
  },
  {
   "cell_type": "markdown",
   "id": "particular-wells",
   "metadata": {},
   "source": [
    "###### Let us train the model to calculate weights which maximises the log likelihood function"
   ]
  },
  {
   "cell_type": "code",
   "execution_count": 35,
   "id": "theoretical-carpet",
   "metadata": {},
   "outputs": [
    {
     "name": "stderr",
     "output_type": "stream",
     "text": [
      "<ipython-input-31-1c09cf4f9ad8>:3: RuntimeWarning: overflow encountered in exp\n",
      "  sigma = 1 / (1 + np.exp(-z))\n"
     ]
    },
    {
     "name": "stdout",
     "output_type": "stream",
     "text": [
      "Training time:62.788461446762085seconds\n",
      "Learning rate: 0.1\n",
      "Iteration: 100000\n"
     ]
    }
   ],
   "source": [
    "start_time = time.time()\n",
    "num_iter = 100000\n",
    "\n",
    "intercept0 = np.ones((x.shape[0], 1))\n",
    "x0 = np.concatenate((intercept0, x), axis=1)\n",
    "theta0 = np.zeros((x0.shape[1],1))\n",
    "\n",
    "for i in range(num_iter):\n",
    "    h0 = sigmoid(x0, theta0)\n",
    "    gradient0 = gradient_ascent(x0, h0, y) \n",
    "    theta0 = update_weight_mle(theta0, 0.1, gradient0)\n",
    "    \n",
    "print(\"Training time:\" + str(time.time() - start_time) + \"seconds\")\n",
    "print(\"Learning rate: {}\\nIteration: {}\".format(0.1, num_iter))"
   ]
  },
  {
   "cell_type": "code",
   "execution_count": 57,
   "id": "invalid-basement",
   "metadata": {},
   "outputs": [
    {
     "name": "stdout",
     "output_type": "stream",
     "text": [
      "Training Accuracy: 91.27499999999999\n"
     ]
    },
    {
     "name": "stderr",
     "output_type": "stream",
     "text": [
      "<ipython-input-31-1c09cf4f9ad8>:3: RuntimeWarning: overflow encountered in exp\n",
      "  sigma = 1 / (1 + np.exp(-z))\n"
     ]
    }
   ],
   "source": [
    "result0 = sigmoid(x0, theta0)\n",
    "ycap0 = [1 if i >= 0.5 else 0 for i in result0]\n",
    "f0 = pd.DataFrame(ycap0).astype(float).join(y)\n",
    "accuracy0 = f0.loc[f0[0]==f0['y']].shape[0] / f0.shape[0] * 100\n",
    "print(\"Training Accuracy:\",accuracy0)"
   ]
  },
  {
   "cell_type": "code",
   "execution_count": 37,
   "id": "functional-framework",
   "metadata": {
    "scrolled": true
   },
   "outputs": [],
   "source": [
    "#result2 = sigmoid(x2, theta2)\n",
    "#f2 = pd.DataFrame(np.around(result2, decimals=6)).join(y)\n",
    "#print(\"Accuracy (Loss minimization):\")\n",
    "#f2.loc[f2[0]==f['y']].shape[0] / f2.shape[0] * 100"
   ]
  },
  {
   "cell_type": "code",
   "execution_count": 38,
   "id": "accurate-spouse",
   "metadata": {},
   "outputs": [
    {
     "name": "stderr",
     "output_type": "stream",
     "text": [
      "<ipython-input-31-1c09cf4f9ad8>:3: RuntimeWarning: overflow encountered in exp\n",
      "  sigma = 1 / (1 + np.exp(-z))\n"
     ]
    },
    {
     "name": "stdout",
     "output_type": "stream",
     "text": [
      "Training time:88.37334775924683seconds\n",
      "Learning rate: 0.3\n",
      "Iteration: 100000\n"
     ]
    }
   ],
   "source": [
    "start_time = time.time()\n",
    "num_iter = 100000\n",
    "\n",
    "intercept3 = np.ones((x.shape[0], 1))\n",
    "x3 = np.concatenate((intercept3, x), axis=1)\n",
    "theta3 = np.zeros((x3.shape[1],1))\n",
    "\n",
    "for i in range(num_iter):\n",
    "    h3 = sigmoid(x3, theta3)\n",
    "    gradient3 = gradient_ascent(x3, h3, y) \n",
    "    theta3 = update_weight_mle(theta3, 0.3, gradient3)\n",
    "    \n",
    "print(\"Training time:\" + str(time.time() - start_time) + \"seconds\")\n",
    "print(\"Learning rate: {}\\nIteration: {}\".format(0.30, num_iter))"
   ]
  },
  {
   "cell_type": "code",
   "execution_count": 56,
   "id": "charitable-submission",
   "metadata": {},
   "outputs": [
    {
     "name": "stdout",
     "output_type": "stream",
     "text": [
      "Training Accuracy: 92.50833333333334\n"
     ]
    },
    {
     "name": "stderr",
     "output_type": "stream",
     "text": [
      "<ipython-input-31-1c09cf4f9ad8>:3: RuntimeWarning: overflow encountered in exp\n",
      "  sigma = 1 / (1 + np.exp(-z))\n"
     ]
    }
   ],
   "source": [
    "result3 = sigmoid(x3, theta3)\n",
    "ycap3 = [1 if i >= 0.5 else 0 for i in result3]\n",
    "f3 = pd.DataFrame(ycap3).astype(float).join(y)\n",
    "accuracy1 = f3.loc[f3[0]==f3['y']].shape[0] / f3.shape[0] * 100\n",
    "print(\"Training Accuracy:\",accuracy1)"
   ]
  },
  {
   "cell_type": "code",
   "execution_count": 40,
   "id": "dress-humanitarian",
   "metadata": {},
   "outputs": [
    {
     "name": "stderr",
     "output_type": "stream",
     "text": [
      "<ipython-input-31-1c09cf4f9ad8>:3: RuntimeWarning: overflow encountered in exp\n",
      "  sigma = 1 / (1 + np.exp(-z))\n"
     ]
    },
    {
     "name": "stdout",
     "output_type": "stream",
     "text": [
      "Training time:121.92118525505066seconds\n",
      "Learning rate: 0.4\n",
      "Iteration: 100000\n"
     ]
    }
   ],
   "source": [
    "start_time = time.time()\n",
    "num_iter = 100000\n",
    "\n",
    "intercept4 = np.ones((x.shape[0], 1))\n",
    "x4 = np.concatenate((intercept4, x), axis=1)\n",
    "theta4 = np.zeros((x4.shape[1],1))\n",
    "\n",
    "for i in range(num_iter):\n",
    "    h4 = sigmoid(x4, theta4)\n",
    "    gradient4 = gradient_ascent(x4, h4, y) \n",
    "    theta4 = update_weight_mle(theta4, 0.4, gradient4)\n",
    "    \n",
    "print(\"Training time:\" + str(time.time() - start_time) + \"seconds\")\n",
    "print(\"Learning rate: {}\\nIteration: {}\".format(0.40, num_iter))"
   ]
  },
  {
   "cell_type": "code",
   "execution_count": 55,
   "id": "removable-blade",
   "metadata": {
    "scrolled": true
   },
   "outputs": [
    {
     "name": "stdout",
     "output_type": "stream",
     "text": [
      "Training Accuracy: 92.55\n"
     ]
    },
    {
     "name": "stderr",
     "output_type": "stream",
     "text": [
      "<ipython-input-31-1c09cf4f9ad8>:3: RuntimeWarning: overflow encountered in exp\n",
      "  sigma = 1 / (1 + np.exp(-z))\n"
     ]
    }
   ],
   "source": [
    "result4 = sigmoid(x4, theta4)\n",
    "ycap4 = [1 if i >= 0.5 else 0 for i in result4]\n",
    "f4 = pd.DataFrame(ycap4).astype(float).join(y)\n",
    "accuracy2 = f4.loc[f4[0]==f4['y']].shape[0] / f4.shape[0] * 100\n",
    "print(\"Training Accuracy:\",accuracy2)"
   ]
  },
  {
   "cell_type": "code",
   "execution_count": 42,
   "id": "decreased-creature",
   "metadata": {},
   "outputs": [
    {
     "name": "stderr",
     "output_type": "stream",
     "text": [
      "<ipython-input-31-1c09cf4f9ad8>:3: RuntimeWarning: overflow encountered in exp\n",
      "  sigma = 1 / (1 + np.exp(-z))\n"
     ]
    },
    {
     "name": "stdout",
     "output_type": "stream",
     "text": [
      "Training time:195.1604163646698seconds\n",
      "Learning rate: 0.5\n",
      "Iteration: 100000\n"
     ]
    }
   ],
   "source": [
    "start_time = time.time()\n",
    "num_iter = 100000\n",
    "\n",
    "intercept5 = np.ones((x.shape[0], 1))\n",
    "x5 = np.concatenate((intercept5, x), axis=1)\n",
    "theta5 = np.zeros((x5.shape[1],1))\n",
    "\n",
    "for i in range(num_iter):\n",
    "    h5 = sigmoid(x5, theta5)\n",
    "    gradient5 = gradient_ascent(x5, h5, y) \n",
    "    theta5 = update_weight_mle(theta5, 0.5, gradient5)\n",
    "    \n",
    "print(\"Training time:\" + str(time.time() - start_time) + \"seconds\")\n",
    "print(\"Learning rate: {}\\nIteration: {}\".format(0.50, num_iter))"
   ]
  },
  {
   "cell_type": "code",
   "execution_count": 54,
   "id": "familiar-study",
   "metadata": {
    "scrolled": true
   },
   "outputs": [
    {
     "name": "stdout",
     "output_type": "stream",
     "text": [
      "Training Accuracy: 92.45833333333333\n"
     ]
    },
    {
     "name": "stderr",
     "output_type": "stream",
     "text": [
      "<ipython-input-31-1c09cf4f9ad8>:3: RuntimeWarning: overflow encountered in exp\n",
      "  sigma = 1 / (1 + np.exp(-z))\n"
     ]
    }
   ],
   "source": [
    "result5 = sigmoid(x5, theta5)\n",
    "ycap5 = [1 if i >= 0.5 else 0 for i in result5]\n",
    "f5 = pd.DataFrame(ycap5).astype(float).join(y)\n",
    "accuracy3 = f5.loc[f5[0]==f5['y']].shape[0] / f5.shape[0] * 100\n",
    "print(\"Training Accuracy:\",accuracy3)"
   ]
  },
  {
   "cell_type": "markdown",
   "id": "severe-klein",
   "metadata": {},
   "source": [
    "#### After buidling various models, we see that \"theta4\" predicts training label with highest accuracy of 92.55. Hence it becomes the model parameter which we use to predict on test data. "
   ]
  },
  {
   "cell_type": "code",
   "execution_count": 75,
   "id": "convenient-webcam",
   "metadata": {},
   "outputs": [
    {
     "data": {
      "text/plain": [
       "array([[ -720.64931423],\n",
       "       [-9163.9049862 ],\n",
       "       [ 9607.49304501]])"
      ]
     },
     "execution_count": 75,
     "metadata": {},
     "output_type": "execute_result"
    }
   ],
   "source": [
    "theta4  # model parameter"
   ]
  },
  {
   "cell_type": "markdown",
   "id": "danish-pakistan",
   "metadata": {},
   "source": [
    "### Now lets use test data to check how our model is working on untrained data"
   ]
  },
  {
   "cell_type": "code",
   "execution_count": 44,
   "id": "accurate-liquid",
   "metadata": {},
   "outputs": [
    {
     "data": {
      "text/plain": [
       "(2000, 784)"
      ]
     },
     "execution_count": 44,
     "metadata": {},
     "output_type": "execute_result"
    }
   ],
   "source": [
    "ts_x = data['tsX']\n",
    "ts_x.shape"
   ]
  },
  {
   "cell_type": "code",
   "execution_count": 45,
   "id": "expanded-characteristic",
   "metadata": {},
   "outputs": [
    {
     "data": {
      "text/plain": [
       "(2000,)"
      ]
     },
     "execution_count": 45,
     "metadata": {},
     "output_type": "execute_result"
    }
   ],
   "source": [
    "ts_y = data['tsY'].reshape(2000,)\n",
    "ts_y.shape"
   ]
  },
  {
   "cell_type": "code",
   "execution_count": 46,
   "id": "rocky-sullivan",
   "metadata": {},
   "outputs": [
    {
     "data": {
      "text/plain": [
       "(2000,)"
      ]
     },
     "execution_count": 46,
     "metadata": {},
     "output_type": "execute_result"
    }
   ],
   "source": [
    "mean_tsx = ts_x.mean(axis=1)\n",
    "mean_tsx.shape"
   ]
  },
  {
   "cell_type": "code",
   "execution_count": 47,
   "id": "demonstrated-preservation",
   "metadata": {},
   "outputs": [
    {
     "data": {
      "text/plain": [
       "(2000,)"
      ]
     },
     "execution_count": 47,
     "metadata": {},
     "output_type": "execute_result"
    }
   ],
   "source": [
    "std_tsx = ts_x.std(axis=1)\n",
    "std_tsx.shape"
   ]
  },
  {
   "cell_type": "code",
   "execution_count": 48,
   "id": "presidential-afghanistan",
   "metadata": {
    "scrolled": true
   },
   "outputs": [
    {
     "data": {
      "text/html": [
       "<div>\n",
       "<style scoped>\n",
       "    .dataframe tbody tr th:only-of-type {\n",
       "        vertical-align: middle;\n",
       "    }\n",
       "\n",
       "    .dataframe tbody tr th {\n",
       "        vertical-align: top;\n",
       "    }\n",
       "\n",
       "    .dataframe thead th {\n",
       "        text-align: right;\n",
       "    }\n",
       "</style>\n",
       "<table border=\"1\" class=\"dataframe\">\n",
       "  <thead>\n",
       "    <tr style=\"text-align: right;\">\n",
       "      <th></th>\n",
       "      <th>mean</th>\n",
       "      <th>std</th>\n",
       "      <th>y</th>\n",
       "    </tr>\n",
       "  </thead>\n",
       "  <tbody>\n",
       "    <tr>\n",
       "      <th>0</th>\n",
       "      <td>0.225665</td>\n",
       "      <td>0.222569</td>\n",
       "      <td>0.0</td>\n",
       "    </tr>\n",
       "    <tr>\n",
       "      <th>1</th>\n",
       "      <td>0.114816</td>\n",
       "      <td>0.221261</td>\n",
       "      <td>1.0</td>\n",
       "    </tr>\n",
       "    <tr>\n",
       "      <th>2</th>\n",
       "      <td>0.164591</td>\n",
       "      <td>0.263742</td>\n",
       "      <td>1.0</td>\n",
       "    </tr>\n",
       "    <tr>\n",
       "      <th>3</th>\n",
       "      <td>0.358593</td>\n",
       "      <td>0.424441</td>\n",
       "      <td>1.0</td>\n",
       "    </tr>\n",
       "    <tr>\n",
       "      <th>4</th>\n",
       "      <td>0.190886</td>\n",
       "      <td>0.293430</td>\n",
       "      <td>1.0</td>\n",
       "    </tr>\n",
       "    <tr>\n",
       "      <th>...</th>\n",
       "      <td>...</td>\n",
       "      <td>...</td>\n",
       "      <td>...</td>\n",
       "    </tr>\n",
       "    <tr>\n",
       "      <th>1995</th>\n",
       "      <td>0.096439</td>\n",
       "      <td>0.170104</td>\n",
       "      <td>1.0</td>\n",
       "    </tr>\n",
       "    <tr>\n",
       "      <th>1996</th>\n",
       "      <td>0.233683</td>\n",
       "      <td>0.383631</td>\n",
       "      <td>1.0</td>\n",
       "    </tr>\n",
       "    <tr>\n",
       "      <th>1997</th>\n",
       "      <td>0.217972</td>\n",
       "      <td>0.341390</td>\n",
       "      <td>1.0</td>\n",
       "    </tr>\n",
       "    <tr>\n",
       "      <th>1998</th>\n",
       "      <td>0.175030</td>\n",
       "      <td>0.166916</td>\n",
       "      <td>0.0</td>\n",
       "    </tr>\n",
       "    <tr>\n",
       "      <th>1999</th>\n",
       "      <td>0.241417</td>\n",
       "      <td>0.374308</td>\n",
       "      <td>1.0</td>\n",
       "    </tr>\n",
       "  </tbody>\n",
       "</table>\n",
       "<p>2000 rows × 3 columns</p>\n",
       "</div>"
      ],
      "text/plain": [
       "          mean       std    y\n",
       "0     0.225665  0.222569  0.0\n",
       "1     0.114816  0.221261  1.0\n",
       "2     0.164591  0.263742  1.0\n",
       "3     0.358593  0.424441  1.0\n",
       "4     0.190886  0.293430  1.0\n",
       "...        ...       ...  ...\n",
       "1995  0.096439  0.170104  1.0\n",
       "1996  0.233683  0.383631  1.0\n",
       "1997  0.217972  0.341390  1.0\n",
       "1998  0.175030  0.166916  0.0\n",
       "1999  0.241417  0.374308  1.0\n",
       "\n",
       "[2000 rows x 3 columns]"
      ]
     },
     "execution_count": 48,
     "metadata": {},
     "output_type": "execute_result"
    }
   ],
   "source": [
    "df2 = pd.DataFrame({'mean':mean_tsx,'std':std_tsx,'y':ts_y})\n",
    "df2"
   ]
  },
  {
   "cell_type": "code",
   "execution_count": 49,
   "id": "informational-carnival",
   "metadata": {},
   "outputs": [],
   "source": [
    "ts_y = df2[['y']]\n",
    "ts_x = df2[['mean','std']]"
   ]
  },
  {
   "cell_type": "markdown",
   "id": "interstate-source",
   "metadata": {},
   "source": [
    "###### Let the threshold be 0.5. This implies that the predicted variable will be assigned 1 if its independet variables PDF value is >=0.5. Else it is assigned 0 "
   ]
  },
  {
   "cell_type": "code",
   "execution_count": 50,
   "id": "signed-scotland",
   "metadata": {
    "scrolled": true
   },
   "outputs": [
    {
     "name": "stderr",
     "output_type": "stream",
     "text": [
      "<ipython-input-31-1c09cf4f9ad8>:3: RuntimeWarning: overflow encountered in exp\n",
      "  sigma = 1 / (1 + np.exp(-z))\n"
     ]
    }
   ],
   "source": [
    "ts_intercept = np.ones((ts_x.shape[0], 1))\n",
    "ts_x1 = np.concatenate((ts_intercept, ts_x), axis=1)\n",
    "ts_result = sigmoid(ts_x1, theta4)\n",
    "ts_ycap = [1 if i >= 0.5 else 0 for i in ts_result]\n",
    "ts_df = pd.DataFrame(ts_ycap).astype(float).join(ts_y)"
   ]
  },
  {
   "cell_type": "code",
   "execution_count": 52,
   "id": "peripheral-fancy",
   "metadata": {
    "scrolled": true
   },
   "outputs": [
    {
     "name": "stdout",
     "output_type": "stream",
     "text": [
      "Test Accuracy: 92.10000000000001\n"
     ]
    }
   ],
   "source": [
    "test_accuracy_logistic = ts_df.loc[ts_df[0]==ts_df['y']].shape[0] / ts_df.shape[0] * 100\n",
    "print(\"Test Accuracy:\",test_accuracy_logistic)"
   ]
  },
  {
   "cell_type": "markdown",
   "id": "standing-blink",
   "metadata": {},
   "source": [
    "## Naive Bayes classification"
   ]
  },
  {
   "cell_type": "markdown",
   "id": "micro-short",
   "metadata": {},
   "source": [
    "#### Here is the PDF for Multivariate normal distribution"
   ]
  },
  {
   "cell_type": "markdown",
   "id": "powerful-ecology",
   "metadata": {},
   "source": [
    "![title](multivariate_gaussian_distribution.png)"
   ]
  },
  {
   "cell_type": "markdown",
   "id": "analyzed-promise",
   "metadata": {},
   "source": [
    "###### let x_nm_train be defined as training independent variable"
   ]
  },
  {
   "cell_type": "code",
   "execution_count": 58,
   "id": "unauthorized-payment",
   "metadata": {},
   "outputs": [
    {
     "data": {
      "text/html": [
       "<div>\n",
       "<style scoped>\n",
       "    .dataframe tbody tr th:only-of-type {\n",
       "        vertical-align: middle;\n",
       "    }\n",
       "\n",
       "    .dataframe tbody tr th {\n",
       "        vertical-align: top;\n",
       "    }\n",
       "\n",
       "    .dataframe thead th {\n",
       "        text-align: right;\n",
       "    }\n",
       "</style>\n",
       "<table border=\"1\" class=\"dataframe\">\n",
       "  <thead>\n",
       "    <tr style=\"text-align: right;\">\n",
       "      <th></th>\n",
       "      <th>mean</th>\n",
       "      <th>std</th>\n",
       "    </tr>\n",
       "  </thead>\n",
       "  <tbody>\n",
       "    <tr>\n",
       "      <th>0</th>\n",
       "      <td>0.423159</td>\n",
       "      <td>0.395417</td>\n",
       "    </tr>\n",
       "    <tr>\n",
       "      <th>1</th>\n",
       "      <td>0.143367</td>\n",
       "      <td>0.194897</td>\n",
       "    </tr>\n",
       "    <tr>\n",
       "      <th>2</th>\n",
       "      <td>0.306057</td>\n",
       "      <td>0.407228</td>\n",
       "    </tr>\n",
       "    <tr>\n",
       "      <th>3</th>\n",
       "      <td>0.347949</td>\n",
       "      <td>0.332871</td>\n",
       "    </tr>\n",
       "    <tr>\n",
       "      <th>4</th>\n",
       "      <td>0.369848</td>\n",
       "      <td>0.374355</td>\n",
       "    </tr>\n",
       "    <tr>\n",
       "      <th>...</th>\n",
       "      <td>...</td>\n",
       "      <td>...</td>\n",
       "    </tr>\n",
       "    <tr>\n",
       "      <th>11995</th>\n",
       "      <td>0.168517</td>\n",
       "      <td>0.255543</td>\n",
       "    </tr>\n",
       "    <tr>\n",
       "      <th>11996</th>\n",
       "      <td>0.328006</td>\n",
       "      <td>0.362793</td>\n",
       "    </tr>\n",
       "    <tr>\n",
       "      <th>11997</th>\n",
       "      <td>0.179372</td>\n",
       "      <td>0.274561</td>\n",
       "    </tr>\n",
       "    <tr>\n",
       "      <th>11998</th>\n",
       "      <td>0.189001</td>\n",
       "      <td>0.325558</td>\n",
       "    </tr>\n",
       "    <tr>\n",
       "      <th>11999</th>\n",
       "      <td>0.213891</td>\n",
       "      <td>0.364859</td>\n",
       "    </tr>\n",
       "  </tbody>\n",
       "</table>\n",
       "<p>12000 rows × 2 columns</p>\n",
       "</div>"
      ],
      "text/plain": [
       "           mean       std\n",
       "0      0.423159  0.395417\n",
       "1      0.143367  0.194897\n",
       "2      0.306057  0.407228\n",
       "3      0.347949  0.332871\n",
       "4      0.369848  0.374355\n",
       "...         ...       ...\n",
       "11995  0.168517  0.255543\n",
       "11996  0.328006  0.362793\n",
       "11997  0.179372  0.274561\n",
       "11998  0.189001  0.325558\n",
       "11999  0.213891  0.364859\n",
       "\n",
       "[12000 rows x 2 columns]"
      ]
     },
     "execution_count": 58,
     "metadata": {},
     "output_type": "execute_result"
    }
   ],
   "source": [
    "x_nm_train = df1[['mean','std']]\n",
    "x_nm_train"
   ]
  },
  {
   "cell_type": "markdown",
   "id": "religious-international",
   "metadata": {},
   "source": [
    "###### Here I had defined multigaussian function which uses multivariate_normal.pdf package from scipy library"
   ]
  },
  {
   "cell_type": "code",
   "execution_count": 59,
   "id": "anonymous-boring",
   "metadata": {},
   "outputs": [],
   "source": [
    "def multigaussian(x, means,covariances):\n",
    "    return multivariate_normal.pdf(x, mean=means, cov=covariances)"
   ]
  },
  {
   "cell_type": "markdown",
   "id": "moving-attendance",
   "metadata": {},
   "source": [
    "###### Prior probability for Y=0"
   ]
  },
  {
   "cell_type": "code",
   "execution_count": 60,
   "id": "dangerous-october",
   "metadata": {},
   "outputs": [
    {
     "data": {
      "text/plain": [
       "0.5"
      ]
     },
     "execution_count": 60,
     "metadata": {},
     "output_type": "execute_result"
    }
   ],
   "source": [
    "prior_0 = (df2.loc[df2['y']==0].shape[0]) / df2.shape[0]\n",
    "prior_0"
   ]
  },
  {
   "cell_type": "markdown",
   "id": "legitimate-inspiration",
   "metadata": {},
   "source": [
    "###### Prior probability for Y=1"
   ]
  },
  {
   "cell_type": "code",
   "execution_count": 61,
   "id": "accomplished-lodge",
   "metadata": {},
   "outputs": [
    {
     "data": {
      "text/plain": [
       "0.5"
      ]
     },
     "execution_count": 61,
     "metadata": {},
     "output_type": "execute_result"
    }
   ],
   "source": [
    "prior_1 = (df2.loc[df2['y']==1].shape[0]) / df2.shape[0]\n",
    "prior_1"
   ]
  },
  {
   "cell_type": "markdown",
   "id": "revised-implementation",
   "metadata": {},
   "source": [
    "###### Now let us calculate PDF for x_nm_train using mean_1, cov_1 which are for Y=1"
   ]
  },
  {
   "cell_type": "code",
   "execution_count": 62,
   "id": "blank-imagination",
   "metadata": {},
   "outputs": [
    {
     "data": {
      "text/plain": [
       "(12000,)"
      ]
     },
     "execution_count": 62,
     "metadata": {},
     "output_type": "execute_result"
    }
   ],
   "source": [
    "result_train_1 = multigaussian(x_nm_train,mean_1, cov_1)\n",
    "posterior_train_1 = np.dot(result_train_1,prior_1)\n",
    "posterior_train_1.shape"
   ]
  },
  {
   "cell_type": "markdown",
   "id": "increased-score",
   "metadata": {},
   "source": [
    "###### Now let us calculate PDF for x_nm_train using mean_0, cov_0 which are for Y=0"
   ]
  },
  {
   "cell_type": "code",
   "execution_count": 63,
   "id": "sufficient-narrow",
   "metadata": {},
   "outputs": [
    {
     "data": {
      "text/plain": [
       "(12000,)"
      ]
     },
     "execution_count": 63,
     "metadata": {},
     "output_type": "execute_result"
    }
   ],
   "source": [
    "result_train_0 = multigaussian(x_nm_train,mean_0, cov_0)\n",
    "posterior_train_0 = np.dot(result_train_0,prior_0)\n",
    "posterior_train_0.shape"
   ]
  },
  {
   "cell_type": "markdown",
   "id": "employed-traveler",
   "metadata": {},
   "source": [
    "###### Let us assign 1 to predicted Y (ycap) if PDF for Y=1 > PDF for Y=0. Else ycap=0"
   ]
  },
  {
   "cell_type": "code",
   "execution_count": 64,
   "id": "determined-motor",
   "metadata": {},
   "outputs": [],
   "source": [
    "nm_train = []\n",
    "for i,k in zip(posterior_train_0,posterior_train_1):\n",
    "    if i>=k:\n",
    "        nm_train.append(0)\n",
    "    else:\n",
    "        nm_train.append(1)\n",
    "nm_train = np.asarray(nm_train)"
   ]
  },
  {
   "cell_type": "code",
   "execution_count": 66,
   "id": "absent-phone",
   "metadata": {},
   "outputs": [
    {
     "data": {
      "text/html": [
       "<div>\n",
       "<style scoped>\n",
       "    .dataframe tbody tr th:only-of-type {\n",
       "        vertical-align: middle;\n",
       "    }\n",
       "\n",
       "    .dataframe tbody tr th {\n",
       "        vertical-align: top;\n",
       "    }\n",
       "\n",
       "    .dataframe thead th {\n",
       "        text-align: right;\n",
       "    }\n",
       "</style>\n",
       "<table border=\"1\" class=\"dataframe\">\n",
       "  <thead>\n",
       "    <tr style=\"text-align: right;\">\n",
       "      <th></th>\n",
       "      <th>mean</th>\n",
       "      <th>std</th>\n",
       "      <th>y</th>\n",
       "      <th>ycap</th>\n",
       "    </tr>\n",
       "  </thead>\n",
       "  <tbody>\n",
       "    <tr>\n",
       "      <th>0</th>\n",
       "      <td>0.423159</td>\n",
       "      <td>0.395417</td>\n",
       "      <td>0.0</td>\n",
       "      <td>0.0</td>\n",
       "    </tr>\n",
       "    <tr>\n",
       "      <th>1</th>\n",
       "      <td>0.143367</td>\n",
       "      <td>0.194897</td>\n",
       "      <td>0.0</td>\n",
       "      <td>0.0</td>\n",
       "    </tr>\n",
       "    <tr>\n",
       "      <th>2</th>\n",
       "      <td>0.306057</td>\n",
       "      <td>0.407228</td>\n",
       "      <td>0.0</td>\n",
       "      <td>0.0</td>\n",
       "    </tr>\n",
       "    <tr>\n",
       "      <th>3</th>\n",
       "      <td>0.347949</td>\n",
       "      <td>0.332871</td>\n",
       "      <td>0.0</td>\n",
       "      <td>0.0</td>\n",
       "    </tr>\n",
       "    <tr>\n",
       "      <th>4</th>\n",
       "      <td>0.369848</td>\n",
       "      <td>0.374355</td>\n",
       "      <td>0.0</td>\n",
       "      <td>0.0</td>\n",
       "    </tr>\n",
       "    <tr>\n",
       "      <th>...</th>\n",
       "      <td>...</td>\n",
       "      <td>...</td>\n",
       "      <td>...</td>\n",
       "      <td>...</td>\n",
       "    </tr>\n",
       "    <tr>\n",
       "      <th>11995</th>\n",
       "      <td>0.168517</td>\n",
       "      <td>0.255543</td>\n",
       "      <td>1.0</td>\n",
       "      <td>1.0</td>\n",
       "    </tr>\n",
       "    <tr>\n",
       "      <th>11996</th>\n",
       "      <td>0.328006</td>\n",
       "      <td>0.362793</td>\n",
       "      <td>1.0</td>\n",
       "      <td>0.0</td>\n",
       "    </tr>\n",
       "    <tr>\n",
       "      <th>11997</th>\n",
       "      <td>0.179372</td>\n",
       "      <td>0.274561</td>\n",
       "      <td>1.0</td>\n",
       "      <td>1.0</td>\n",
       "    </tr>\n",
       "    <tr>\n",
       "      <th>11998</th>\n",
       "      <td>0.189001</td>\n",
       "      <td>0.325558</td>\n",
       "      <td>1.0</td>\n",
       "      <td>1.0</td>\n",
       "    </tr>\n",
       "    <tr>\n",
       "      <th>11999</th>\n",
       "      <td>0.213891</td>\n",
       "      <td>0.364859</td>\n",
       "      <td>1.0</td>\n",
       "      <td>1.0</td>\n",
       "    </tr>\n",
       "  </tbody>\n",
       "</table>\n",
       "<p>12000 rows × 4 columns</p>\n",
       "</div>"
      ],
      "text/plain": [
       "           mean       std    y  ycap\n",
       "0      0.423159  0.395417  0.0   0.0\n",
       "1      0.143367  0.194897  0.0   0.0\n",
       "2      0.306057  0.407228  0.0   0.0\n",
       "3      0.347949  0.332871  0.0   0.0\n",
       "4      0.369848  0.374355  0.0   0.0\n",
       "...         ...       ...  ...   ...\n",
       "11995  0.168517  0.255543  1.0   1.0\n",
       "11996  0.328006  0.362793  1.0   0.0\n",
       "11997  0.179372  0.274561  1.0   1.0\n",
       "11998  0.189001  0.325558  1.0   1.0\n",
       "11999  0.213891  0.364859  1.0   1.0\n",
       "\n",
       "[12000 rows x 4 columns]"
      ]
     },
     "execution_count": 66,
     "metadata": {},
     "output_type": "execute_result"
    }
   ],
   "source": [
    "df1['ycap'] = nm_train.astype('float')\n",
    "df1"
   ]
  },
  {
   "cell_type": "code",
   "execution_count": 67,
   "id": "fabulous-better",
   "metadata": {},
   "outputs": [
    {
     "name": "stdout",
     "output_type": "stream",
     "text": [
      "Accuracy (multi gausssian): 82.38333333333333\n"
     ]
    }
   ],
   "source": [
    "train_accuracy_nb = df1.loc[df1['ycap']==df1['y']].shape[0] / df1.shape[0] * 100\n",
    "print(\"Accuracy (multi gausssian):\",train_accuracy_nb)"
   ]
  },
  {
   "cell_type": "markdown",
   "id": "hybrid-coast",
   "metadata": {},
   "source": [
    "#### Let us plug in test variables and see the accuracy with which our likelihood and prior predict Y"
   ]
  },
  {
   "cell_type": "code",
   "execution_count": 68,
   "id": "fixed-subscriber",
   "metadata": {},
   "outputs": [
    {
     "data": {
      "text/html": [
       "<div>\n",
       "<style scoped>\n",
       "    .dataframe tbody tr th:only-of-type {\n",
       "        vertical-align: middle;\n",
       "    }\n",
       "\n",
       "    .dataframe tbody tr th {\n",
       "        vertical-align: top;\n",
       "    }\n",
       "\n",
       "    .dataframe thead th {\n",
       "        text-align: right;\n",
       "    }\n",
       "</style>\n",
       "<table border=\"1\" class=\"dataframe\">\n",
       "  <thead>\n",
       "    <tr style=\"text-align: right;\">\n",
       "      <th></th>\n",
       "      <th>mean</th>\n",
       "      <th>std</th>\n",
       "    </tr>\n",
       "  </thead>\n",
       "  <tbody>\n",
       "    <tr>\n",
       "      <th>0</th>\n",
       "      <td>0.225665</td>\n",
       "      <td>0.222569</td>\n",
       "    </tr>\n",
       "    <tr>\n",
       "      <th>1</th>\n",
       "      <td>0.114816</td>\n",
       "      <td>0.221261</td>\n",
       "    </tr>\n",
       "    <tr>\n",
       "      <th>2</th>\n",
       "      <td>0.164591</td>\n",
       "      <td>0.263742</td>\n",
       "    </tr>\n",
       "    <tr>\n",
       "      <th>3</th>\n",
       "      <td>0.358593</td>\n",
       "      <td>0.424441</td>\n",
       "    </tr>\n",
       "    <tr>\n",
       "      <th>4</th>\n",
       "      <td>0.190886</td>\n",
       "      <td>0.293430</td>\n",
       "    </tr>\n",
       "    <tr>\n",
       "      <th>...</th>\n",
       "      <td>...</td>\n",
       "      <td>...</td>\n",
       "    </tr>\n",
       "    <tr>\n",
       "      <th>1995</th>\n",
       "      <td>0.096439</td>\n",
       "      <td>0.170104</td>\n",
       "    </tr>\n",
       "    <tr>\n",
       "      <th>1996</th>\n",
       "      <td>0.233683</td>\n",
       "      <td>0.383631</td>\n",
       "    </tr>\n",
       "    <tr>\n",
       "      <th>1997</th>\n",
       "      <td>0.217972</td>\n",
       "      <td>0.341390</td>\n",
       "    </tr>\n",
       "    <tr>\n",
       "      <th>1998</th>\n",
       "      <td>0.175030</td>\n",
       "      <td>0.166916</td>\n",
       "    </tr>\n",
       "    <tr>\n",
       "      <th>1999</th>\n",
       "      <td>0.241417</td>\n",
       "      <td>0.374308</td>\n",
       "    </tr>\n",
       "  </tbody>\n",
       "</table>\n",
       "<p>2000 rows × 2 columns</p>\n",
       "</div>"
      ],
      "text/plain": [
       "          mean       std\n",
       "0     0.225665  0.222569\n",
       "1     0.114816  0.221261\n",
       "2     0.164591  0.263742\n",
       "3     0.358593  0.424441\n",
       "4     0.190886  0.293430\n",
       "...        ...       ...\n",
       "1995  0.096439  0.170104\n",
       "1996  0.233683  0.383631\n",
       "1997  0.217972  0.341390\n",
       "1998  0.175030  0.166916\n",
       "1999  0.241417  0.374308\n",
       "\n",
       "[2000 rows x 2 columns]"
      ]
     },
     "execution_count": 68,
     "metadata": {},
     "output_type": "execute_result"
    }
   ],
   "source": [
    "x_nm_test = df2[['mean','std']]\n",
    "x_nm_test"
   ]
  },
  {
   "cell_type": "code",
   "execution_count": 69,
   "id": "spoken-struggle",
   "metadata": {},
   "outputs": [
    {
     "data": {
      "text/plain": [
       "(2000,)"
      ]
     },
     "execution_count": 69,
     "metadata": {},
     "output_type": "execute_result"
    }
   ],
   "source": [
    "result_test_1 = multigaussian(x_nm_test,mean_1, cov_1)\n",
    "posterior_test_1 = np.dot(result_test_1,prior_1)\n",
    "posterior_test_1.shape"
   ]
  },
  {
   "cell_type": "code",
   "execution_count": 70,
   "id": "major-harris",
   "metadata": {},
   "outputs": [
    {
     "data": {
      "text/plain": [
       "(2000,)"
      ]
     },
     "execution_count": 70,
     "metadata": {},
     "output_type": "execute_result"
    }
   ],
   "source": [
    "result_test_0 = multigaussian(x_nm_test,mean_0, cov_0)\n",
    "posterior_test_0 = np.dot(result_test_0,prior_0)\n",
    "posterior_test_0.shape"
   ]
  },
  {
   "cell_type": "code",
   "execution_count": 71,
   "id": "manufactured-daniel",
   "metadata": {},
   "outputs": [],
   "source": [
    "nm_test = []\n",
    "for i,k in zip(posterior_test_0,posterior_test_1):\n",
    "    if i>=k:\n",
    "        nm_test.append(0)\n",
    "    else:\n",
    "        nm_test.append(1)\n",
    "nm_test = np.asarray(nm_test)"
   ]
  },
  {
   "cell_type": "code",
   "execution_count": 72,
   "id": "alternative-london",
   "metadata": {},
   "outputs": [
    {
     "data": {
      "text/html": [
       "<div>\n",
       "<style scoped>\n",
       "    .dataframe tbody tr th:only-of-type {\n",
       "        vertical-align: middle;\n",
       "    }\n",
       "\n",
       "    .dataframe tbody tr th {\n",
       "        vertical-align: top;\n",
       "    }\n",
       "\n",
       "    .dataframe thead th {\n",
       "        text-align: right;\n",
       "    }\n",
       "</style>\n",
       "<table border=\"1\" class=\"dataframe\">\n",
       "  <thead>\n",
       "    <tr style=\"text-align: right;\">\n",
       "      <th></th>\n",
       "      <th>mean</th>\n",
       "      <th>std</th>\n",
       "      <th>y</th>\n",
       "      <th>ycap</th>\n",
       "    </tr>\n",
       "  </thead>\n",
       "  <tbody>\n",
       "    <tr>\n",
       "      <th>0</th>\n",
       "      <td>0.225665</td>\n",
       "      <td>0.222569</td>\n",
       "      <td>0.0</td>\n",
       "      <td>1.0</td>\n",
       "    </tr>\n",
       "    <tr>\n",
       "      <th>1</th>\n",
       "      <td>0.114816</td>\n",
       "      <td>0.221261</td>\n",
       "      <td>1.0</td>\n",
       "      <td>0.0</td>\n",
       "    </tr>\n",
       "    <tr>\n",
       "      <th>2</th>\n",
       "      <td>0.164591</td>\n",
       "      <td>0.263742</td>\n",
       "      <td>1.0</td>\n",
       "      <td>1.0</td>\n",
       "    </tr>\n",
       "    <tr>\n",
       "      <th>3</th>\n",
       "      <td>0.358593</td>\n",
       "      <td>0.424441</td>\n",
       "      <td>1.0</td>\n",
       "      <td>0.0</td>\n",
       "    </tr>\n",
       "    <tr>\n",
       "      <th>4</th>\n",
       "      <td>0.190886</td>\n",
       "      <td>0.293430</td>\n",
       "      <td>1.0</td>\n",
       "      <td>1.0</td>\n",
       "    </tr>\n",
       "    <tr>\n",
       "      <th>...</th>\n",
       "      <td>...</td>\n",
       "      <td>...</td>\n",
       "      <td>...</td>\n",
       "      <td>...</td>\n",
       "    </tr>\n",
       "    <tr>\n",
       "      <th>1995</th>\n",
       "      <td>0.096439</td>\n",
       "      <td>0.170104</td>\n",
       "      <td>1.0</td>\n",
       "      <td>0.0</td>\n",
       "    </tr>\n",
       "    <tr>\n",
       "      <th>1996</th>\n",
       "      <td>0.233683</td>\n",
       "      <td>0.383631</td>\n",
       "      <td>1.0</td>\n",
       "      <td>1.0</td>\n",
       "    </tr>\n",
       "    <tr>\n",
       "      <th>1997</th>\n",
       "      <td>0.217972</td>\n",
       "      <td>0.341390</td>\n",
       "      <td>1.0</td>\n",
       "      <td>1.0</td>\n",
       "    </tr>\n",
       "    <tr>\n",
       "      <th>1998</th>\n",
       "      <td>0.175030</td>\n",
       "      <td>0.166916</td>\n",
       "      <td>0.0</td>\n",
       "      <td>0.0</td>\n",
       "    </tr>\n",
       "    <tr>\n",
       "      <th>1999</th>\n",
       "      <td>0.241417</td>\n",
       "      <td>0.374308</td>\n",
       "      <td>1.0</td>\n",
       "      <td>1.0</td>\n",
       "    </tr>\n",
       "  </tbody>\n",
       "</table>\n",
       "<p>2000 rows × 4 columns</p>\n",
       "</div>"
      ],
      "text/plain": [
       "          mean       std    y  ycap\n",
       "0     0.225665  0.222569  0.0   1.0\n",
       "1     0.114816  0.221261  1.0   0.0\n",
       "2     0.164591  0.263742  1.0   1.0\n",
       "3     0.358593  0.424441  1.0   0.0\n",
       "4     0.190886  0.293430  1.0   1.0\n",
       "...        ...       ...  ...   ...\n",
       "1995  0.096439  0.170104  1.0   0.0\n",
       "1996  0.233683  0.383631  1.0   1.0\n",
       "1997  0.217972  0.341390  1.0   1.0\n",
       "1998  0.175030  0.166916  0.0   0.0\n",
       "1999  0.241417  0.374308  1.0   1.0\n",
       "\n",
       "[2000 rows x 4 columns]"
      ]
     },
     "execution_count": 72,
     "metadata": {},
     "output_type": "execute_result"
    }
   ],
   "source": [
    "df2['ycap'] = nm_test.astype('float')\n",
    "df2"
   ]
  },
  {
   "cell_type": "code",
   "execution_count": 73,
   "id": "individual-liberia",
   "metadata": {},
   "outputs": [
    {
     "name": "stdout",
     "output_type": "stream",
     "text": [
      "Accuracy (multi gausssian): 83.15\n"
     ]
    }
   ],
   "source": [
    "test_accuracy_nb = df2.loc[df2['ycap']==df2['y']].shape[0] / df2.shape[0] * 100\n",
    "print(\"Accuracy (multi gausssian):\",test_accuracy_nb)"
   ]
  }
 ],
 "metadata": {
  "kernelspec": {
   "display_name": "Python 3",
   "language": "python",
   "name": "python3"
  },
  "language_info": {
   "codemirror_mode": {
    "name": "ipython",
    "version": 3
   },
   "file_extension": ".py",
   "mimetype": "text/x-python",
   "name": "python",
   "nbconvert_exporter": "python",
   "pygments_lexer": "ipython3",
   "version": "3.8.7"
  }
 },
 "nbformat": 4,
 "nbformat_minor": 5
}
