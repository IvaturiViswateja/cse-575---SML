{
 "cells": [
  {
   "cell_type": "markdown",
   "id": "collective-liquid",
   "metadata": {},
   "source": [
    "# Project part 2 - Unsupervised Learning"
   ]
  },
  {
   "cell_type": "markdown",
   "id": "widespread-residence",
   "metadata": {},
   "source": [
    "In this part, you are required to implement the k-means algorithm and apply your implementation on the given dataset, which contains a set of 2-D points. You are required to implement two different strategies for choosing the initial cluster centers.\n",
    "\n",
    "Strategy 1: randomly pick the initial centers from the given samples.\n",
    "\n",
    "Strategy 2: pick the first center randomly; for the i-th center (i>1), choose a sample (among all possible samples) such that the average distance of this chosen one to all previous (i-1) centers is maximal.\n",
    "\n",
    "You need to test your implementation on the given data, with the number k of clusters ranging from 2-10. Plot the objective function value vs. the number of clusters k. Under each strategy, plot the objective function twice, each start from a different initialization."
   ]
  },
  {
   "cell_type": "markdown",
   "id": "varied-ownership",
   "metadata": {},
   "source": [
    "Import the required libraries"
   ]
  },
  {
   "cell_type": "code",
   "execution_count": 9,
   "id": "hundred-deficit",
   "metadata": {},
   "outputs": [],
   "source": [
    "import time\n",
    "import random \n",
    "import matplotlib.pylab as plt\n",
    "import numpy as np\n",
    "import pandas as pd\n",
    "import scipy.io"
   ]
  },
  {
   "cell_type": "markdown",
   "id": "reflected-audience",
   "metadata": {},
   "source": [
    "Load the data from 'AllSamples.mat' file "
   ]
  },
  {
   "cell_type": "code",
   "execution_count": 10,
   "id": "ranking-taiwan",
   "metadata": {},
   "outputs": [],
   "source": [
    "data = scipy.io.loadmat('AllSamples.mat') "
   ]
  },
  {
   "cell_type": "code",
   "execution_count": 11,
   "id": "violent-footwear",
   "metadata": {},
   "outputs": [
    {
     "data": {
      "text/plain": [
       "dict_keys(['__header__', '__version__', '__globals__', 'AllSamples'])"
      ]
     },
     "execution_count": 11,
     "metadata": {},
     "output_type": "execute_result"
    }
   ],
   "source": [
    "data.keys()"
   ]
  },
  {
   "cell_type": "markdown",
   "id": "intelligent-happening",
   "metadata": {},
   "source": [
    "Load the from records from 'data' into a dataframe for further processing"
   ]
  },
  {
   "cell_type": "code",
   "execution_count": 12,
   "id": "optimum-exclusion",
   "metadata": {},
   "outputs": [],
   "source": [
    "array1 = data['AllSamples']"
   ]
  },
  {
   "cell_type": "code",
   "execution_count": 13,
   "id": "boring-stress",
   "metadata": {
    "scrolled": true
   },
   "outputs": [
    {
     "data": {
      "text/html": [
       "<div>\n",
       "<style scoped>\n",
       "    .dataframe tbody tr th:only-of-type {\n",
       "        vertical-align: middle;\n",
       "    }\n",
       "\n",
       "    .dataframe tbody tr th {\n",
       "        vertical-align: top;\n",
       "    }\n",
       "\n",
       "    .dataframe thead th {\n",
       "        text-align: right;\n",
       "    }\n",
       "</style>\n",
       "<table border=\"1\" class=\"dataframe\">\n",
       "  <thead>\n",
       "    <tr style=\"text-align: right;\">\n",
       "      <th></th>\n",
       "      <th>0</th>\n",
       "      <th>1</th>\n",
       "    </tr>\n",
       "  </thead>\n",
       "  <tbody>\n",
       "    <tr>\n",
       "      <th>0</th>\n",
       "      <td>2.059249</td>\n",
       "      <td>7.205988</td>\n",
       "    </tr>\n",
       "    <tr>\n",
       "      <th>1</th>\n",
       "      <td>8.875781</td>\n",
       "      <td>8.960924</td>\n",
       "    </tr>\n",
       "    <tr>\n",
       "      <th>2</th>\n",
       "      <td>8.007064</td>\n",
       "      <td>2.775320</td>\n",
       "    </tr>\n",
       "    <tr>\n",
       "      <th>3</th>\n",
       "      <td>5.017288</td>\n",
       "      <td>3.763120</td>\n",
       "    </tr>\n",
       "    <tr>\n",
       "      <th>4</th>\n",
       "      <td>6.390562</td>\n",
       "      <td>5.179565</td>\n",
       "    </tr>\n",
       "  </tbody>\n",
       "</table>\n",
       "</div>"
      ],
      "text/plain": [
       "          0         1\n",
       "0  2.059249  7.205988\n",
       "1  8.875781  8.960924\n",
       "2  8.007064  2.775320\n",
       "3  5.017288  3.763120\n",
       "4  6.390562  5.179565"
      ]
     },
     "execution_count": 13,
     "metadata": {},
     "output_type": "execute_result"
    }
   ],
   "source": [
    "df1 = pd.DataFrame(array1)\n",
    "df1.head()"
   ]
  },
  {
   "cell_type": "code",
   "execution_count": 14,
   "id": "prescription-showcase",
   "metadata": {},
   "outputs": [
    {
     "data": {
      "text/plain": [
       "(300, 2)"
      ]
     },
     "execution_count": 14,
     "metadata": {},
     "output_type": "execute_result"
    }
   ],
   "source": [
    "df1.shape"
   ]
  },
  {
   "cell_type": "markdown",
   "id": "cellular-adrian",
   "metadata": {},
   "source": [
    "The below function finds the euclidian distance between each centroid in sampledf and the data points in maindf. Then it computes the centroid that has minimum distance for each data point and then adds the index of that centroid to the maindf dataframe. An another function is called to recalibrate the centroids position after the above update. "
   ]
  },
  {
   "cell_type": "code",
   "execution_count": 15,
   "id": "taken-execution",
   "metadata": {},
   "outputs": [],
   "source": [
    "def euclidiandistance(samplerows, mainrows, sampledf, maindf,intdf):\n",
    "    '''\n",
    "    samplerows - number of rows in sampledf\n",
    "    mainrows   - number of rows in maindf\n",
    "    sampledf   - dataframe containing centroids\n",
    "    maindf     - dataframe containing data points\n",
    "    intdf      - dataframe for storing updated centroid coordinates\n",
    "    '''\n",
    "    z_list = []\n",
    "    for i in range(mainrows):\n",
    "        int_list = []\n",
    "        for j in range(samplerows):\n",
    "            int_list.append(np.sqrt(np.square(maindf.iloc[i][0] - sampledf.iloc[j][0]) + np.square(maindf.iloc[i][1] - sampledf.iloc[j][1])))\n",
    "        z_list.append(int_list.index(min(int_list))) # append the index of centroid from sampledf that has minimum distance from data point\n",
    "    maindf['z'] = z_list     # add a new column in maindf fom z_list list\n",
    "    centroidcalculation(maindf,intdf) # call function to recalibrate the centroids coordinates\n",
    "    return"
   ]
  },
  {
   "cell_type": "markdown",
   "id": "thrown-imagination",
   "metadata": {},
   "source": [
    "Centroidcalculation function takes all data points belonging to one cluster centroid and recalibrates its centroid by calculating mean of all x coordinates and mean of all y coordinates."
   ]
  },
  {
   "cell_type": "code",
   "execution_count": 16,
   "id": "constitutional-fisher",
   "metadata": {},
   "outputs": [],
   "source": [
    "def centroidcalculation(mdf,idf):\n",
    "    '''\n",
    "    mdf - dataframe containing data points and the centroid they belong to\n",
    "    idf - dataframe for storing updated centroid coordinates\n",
    "    '''\n",
    "    zidom = sorted(mdf['z'].unique())\n",
    "    for i in zidom:\n",
    "        df6 = mdf[mdf['z']==i]  # filter the data points that belong to each cluster centroid\n",
    "        idf.iloc[i][0] = df6[0].mean(axis=0)  # calculate the mean of all x coordinates\n",
    "        idf.iloc[i][1] = df6[1].mean(axis=0)  # calculate the mean of all y coordinates\n",
    "    return"
   ]
  },
  {
   "attachments": {
    "image.png": {
     "image/png": "[encoded data removed]"
    }
   },
   "cell_type": "markdown",
   "id": "heated-integer",
   "metadata": {},
   "source": [
    "Below is the object function which calculates the total cost for each cluster which is give by the below equation\n",
    "                            ![image.png](attachment:image.png)"
   ]
  },
  {
   "cell_type": "code",
   "execution_count": 17,
   "id": "conservative-assurance",
   "metadata": {},
   "outputs": [],
   "source": [
    "def totalloss(lists, maindf, samepldf):\n",
    "    '''\n",
    "    lists     - contains the list of unique values in columnm 'z' in maindf which denote the index of centroid in sampledf\n",
    "    maindf    - dataframe containing data points and the centroid they belong to\n",
    "    sampledf  - dataframe containing centroids\n",
    "    '''\n",
    "    cost_func = 0\n",
    "    for i in lists:\n",
    "        df = maindf[maindf['z']==i]\n",
    "        fin_rows = df.shape[0]\n",
    "        for j in range(fin_rows):\n",
    "            cost_func+=(np.square(df.iloc[j][0] - samepldf.iloc[i][0]) + np.square(df.iloc[j][1] - samepldf.iloc[i][1]))\n",
    "    return cost_func"
   ]
  },
  {
   "cell_type": "markdown",
   "id": "improved-netherlands",
   "metadata": {},
   "source": [
    "### Strategy 1: randomly pick the initial centers from the given samples"
   ]
  },
  {
   "cell_type": "code",
   "execution_count": 18,
   "id": "hearing-vacation",
   "metadata": {},
   "outputs": [
    {
     "name": "stdout",
     "output_type": "stream",
     "text": [
      "Training time:2.5880502820014955 minutes\n"
     ]
    }
   ],
   "source": [
    "start_time = time.time()\n",
    "cost_dict = {}\n",
    "for l in range(1,3):\n",
    "    error = {}\n",
    "    for k in range(2,11):\n",
    "        count=0\n",
    "        df1 = pd.DataFrame(array1) # load data into df1\n",
    "        df2 = pd.DataFrame()   # dataframe to hold initialised centroids\n",
    "        df3 = pd.DataFrame()\n",
    "        df4 = pd.DataFrame()   # df4 to contain recalibrated centroids every time while loop runs\n",
    "        df5 = pd.DataFrame()\n",
    "        df2 = df1.sample(k)    # sample k centroid from df1 which contains 300 data points\n",
    "        tot_rows = df1.shape[0]\n",
    "        int_rows = df2.shape[0]\n",
    "        while(df4.equals(df2) == False): # update df2 with df4 after each loop since df2 was used in euclidianfunction\n",
    "            count+=1\n",
    "            if count>1 :\n",
    "                df2 = df4.copy()   \n",
    "            else:\n",
    "                df4 = df2.copy()   \n",
    "            euclidiandistance(int_rows, tot_rows, df2, df1,df4)  # call euclidiandistance function\n",
    "        zfdom = sorted(df1['z'].unique())   \n",
    "        cost = totalloss(zfdom, df1, df2) # calcuate total cost\n",
    "        error[k]=cost\n",
    "    cost_dict[l] = error   # cost_dict is the objective function. key is the number of times this algorithm been called and the values are the cost for k centroids\n",
    "print(\"Training time:\" + str((time.time() - start_time)/60) + \" minutes\")"
   ]
  },
  {
   "cell_type": "markdown",
   "id": "sapphire-frame",
   "metadata": {},
   "source": [
    "### Plotting the objective function values vs K for strategy 1"
   ]
  },
  {
   "cell_type": "code",
   "execution_count": 19,
   "id": "minute-granny",
   "metadata": {},
   "outputs": [
    {
     "name": "stdout",
     "output_type": "stream",
     "text": [
      "Objective function for k = [(2, 1921.0334858562055), (3, 1293.7774523911364), (4, 797.9601840789946), (5, 598.5546443663114), (6, 469.13171566558185), (7, 449.0089905693911), (8, 317.12540313018957), (9, 313.5115112828049), (10, 220.15948928846694)]\n"
     ]
    },
    {
     "data": {
      "image/png": "[encoded data removed]",
      "text/plain": [
       "<Figure size 432x288 with 1 Axes>"
      ]
     },
     "metadata": {
      "needs_background": "light"
     },
     "output_type": "display_data"
    },
    {
     "name": "stdout",
     "output_type": "stream",
     "text": [
      "Objective function for k = [(2, 1921.0334858562053), (3, 1294.298417485317), (4, 792.7234630260813), (5, 653.9567908403945), (6, 476.29657052696666), (7, 396.4565140145377), (8, 323.24222225065967), (9, 256.2228642880839), (10, 268.45158428283366)]\n"
     ]
    },
    {
     "data": {
      "image/png": "[encoded data removed]",
      "text/plain": [
       "<Figure size 432x288 with 1 Axes>"
      ]
     },
     "metadata": {
      "needs_background": "light"
     },
     "output_type": "display_data"
    }
   ],
   "source": [
    "def objectivefunctionplot(costvalue):\n",
    "    for k in costvalue:\n",
    "        lists = sorted(k.items()) # sorted by key, return a list of tuples\n",
    "        print(\"Objective function for k = {}\".format(lists))\n",
    "        x, y = zip(*lists) # unpack a list of pairs into two tuples\n",
    "        plt.plot(x, y)\n",
    "        plt.xlabel('K')\n",
    "        plt.ylabel('Objective function value')\n",
    "        plt.xticks(np.arange(min(x), max(x)+1, 1.0))\n",
    "        plt.show()\n",
    "    return\n",
    "cost = cost_dict.values()\n",
    "objectivefunctionplot(cost)"
   ]
  },
  {
   "cell_type": "markdown",
   "id": "portable-gender",
   "metadata": {},
   "source": [
    "The below function implments strategy 2 where intial cluster centroid is choosen randomly but the subsequent centroids are choosen basing on maximum average distance from previous all centroids."
   ]
  },
  {
   "cell_type": "code",
   "execution_count": 20,
   "id": "threaded-grenada",
   "metadata": {},
   "outputs": [],
   "source": [
    "def kstrategy2(l,maindf):\n",
    "    '''\n",
    "    l      - number of centriods to be initialised  \n",
    "    maindf - dataframe containing data points\n",
    "    '''\n",
    "    df2 = maindf.sample(1)    # choose first centroid randomly from all the data points\n",
    "    tot_rows = maindf.shape[0] \n",
    "    int_rows = df2.shape[0]\n",
    "    while(l!= int_rows):  # while l not equal to number of rows in df2 which contains the centroids\n",
    "        int_list = []\n",
    "        tot_list = []\n",
    "        for i in range(tot_rows):\n",
    "            if ((df2[0]==maindf.iloc[i][0]) & (df2[1]==maindf.iloc[i][1])).any():\n",
    "                continue\n",
    "            else:\n",
    "                for j in range(int_rows):\n",
    "                    int_list.append(np.sqrt(np.square(maindf.iloc[i][0] - df2.iloc[j][0]) + np.square(maindf.iloc[i][1] - df2.iloc[j][1])))   # calculte the distance of each point from all centroids \n",
    "                value = sum(int_list)/len(int_list)  # sum up all the distances for each point\n",
    "                tot_list.append(value)  \n",
    "        df2.loc[int_rows] = maindf.iloc[tot_list.index(max(tot_list))]   # select the point with maximum average distance\n",
    "        int_rows = df2.shape[0]\n",
    "    return df2"
   ]
  },
  {
   "cell_type": "code",
   "execution_count": 21,
   "id": "clear-tours",
   "metadata": {},
   "outputs": [
    {
     "name": "stdout",
     "output_type": "stream",
     "text": [
      "Training time:5.024332388242086 minutes\n"
     ]
    }
   ],
   "source": [
    "start_time = time.time()\n",
    "cost_dict2 = {}\n",
    "for i in range(1,3):\n",
    "    error2 = {}\n",
    "    for k in range(2,11):\n",
    "        count=0\n",
    "        df1 = pd.DataFrame(array1) # load data into df1\n",
    "        df3 = kstrategy2(k,df1) # call function to initialise centroids\n",
    "        df4 = pd.DataFrame()\n",
    "        df5 = pd.DataFrame()\n",
    "        tot_rows = df1.shape[0]\n",
    "        int_rows = df3.shape[0]\n",
    "        while(df4.equals(df3) == False):  # update df2 with df4 after each loop since df2 was used in euclidianfunction\n",
    "            count+=1\n",
    "            if count>1 :\n",
    "                df3 = df4.copy()\n",
    "            else:\n",
    "                df4 = df3.copy()\n",
    "            euclidiandistance(int_rows, tot_rows, df3, df1,df4)  # call euclidiandistance function\n",
    "        zfdom = sorted(df1['z'].unique())\n",
    "        cost = totalloss(zfdom, df1, df3)  # calcuate total cost\n",
    "        error2[k]=cost\n",
    "    cost_dict2[i] = error2  # cost_dict2 is the objective function. key is the number of times this algorithm been called and the values are the cost for k centroids\n",
    "print(\"Training time:\" + str((time.time() - start_time)/60) + \" minutes\")"
   ]
  },
  {
   "cell_type": "markdown",
   "id": "alike-marketing",
   "metadata": {},
   "source": [
    "### Plotting the objective function values vs K for strategy 2"
   ]
  },
  {
   "cell_type": "code",
   "execution_count": 22,
   "id": "industrial-alaska",
   "metadata": {},
   "outputs": [
    {
     "name": "stdout",
     "output_type": "stream",
     "text": [
      "Objective function for k = [(2, 1921.0334858562055), (3, 1294.2984174853173), (4, 792.5378104413304), (5, 613.9866286066629), (6, 462.92635582483763), (7, 399.373619874249), (8, 389.347466170943), (9, 292.12508578795854), (10, 291.6011826214556)]\n"
     ]
    },
    {
     "data": {
      "image/png": "[encoded data removed]",
      "text/plain": [
       "<Figure size 432x288 with 1 Axes>"
      ]
     },
     "metadata": {
      "needs_background": "light"
     },
     "output_type": "display_data"
    },
    {
     "name": "stdout",
     "output_type": "stream",
     "text": [
      "Objective function for k = [(2, 1921.0334858562053), (3, 1293.7774523911348), (4, 1115.5344812362405), (5, 592.528384259247), (6, 462.92635582483746), (7, 402.9183586205079), (8, 305.38707328478347), (9, 295.5040924088939), (10, 288.05281731580794)]\n"
     ]
    },
    {
     "data": {
      "image/png": "[encoded data removed]",
      "text/plain": [
       "<Figure size 432x288 with 1 Axes>"
      ]
     },
     "metadata": {
      "needs_background": "light"
     },
     "output_type": "display_data"
    }
   ],
   "source": [
    "cost = cost_dict2.values()\n",
    "objectivefunctionplot(cost)"
   ]
  },
  {
   "cell_type": "code",
   "execution_count": null,
   "id": "thermal-halloween",
   "metadata": {},
   "outputs": [],
   "source": []
  }
 ],
 "metadata": {
  "kernelspec": {
   "display_name": "Python 3",
   "language": "python",
   "name": "python3"
  },
  "language_info": {
   "codemirror_mode": {
    "name": "ipython",
    "version": 3
   },
   "file_extension": ".py",
   "mimetype": "text/x-python",
   "name": "python",
   "nbconvert_exporter": "python",
   "pygments_lexer": "ipython3",
   "version": "3.8.7"
  }
 },
 "nbformat": 4,
 "nbformat_minor": 5
}
